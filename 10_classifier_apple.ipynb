{
 "cells": [
  {
   "cell_type": "code",
   "execution_count": null,
   "metadata": {},
   "outputs": [],
   "source": [
    "#Notes \n",
    "# 1. Reproduce best classification model\n",
    "#based on train.csv (\"\"./Data/train/csv\")\n",
    "# 2. Output accuracy for test.csv (path = \"./Data/test.csv\")\n",
    "# \"Test Accuracy: xx.xx%\"\n",
    "# 3. Data preprocessing before training and testing\n",
    "# 4. Use selected hyperparameters directly instead of executing entire tuning process from beginning"
   ]
  }
 ],
 "metadata": {
  "language_info": {
   "name": "python"
  }
 },
 "nbformat": 4,
 "nbformat_minor": 2
}
